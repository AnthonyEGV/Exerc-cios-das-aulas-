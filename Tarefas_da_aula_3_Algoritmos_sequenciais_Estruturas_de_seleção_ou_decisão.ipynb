{
  "cells": [
    {
      "cell_type": "markdown",
      "metadata": {
        "id": "view-in-github",
        "colab_type": "text"
      },
      "source": [
        "<a href=\"https://colab.research.google.com/github/AnthonyEGV/Exerc-cios-das-aulas-/blob/main/Tarefas_da_aula_3_Algoritmos_sequenciais_Estruturas_de_sele%C3%A7%C3%A3o_ou_decis%C3%A3o.ipynb\" target=\"_parent\"><img src=\"https://colab.research.google.com/assets/colab-badge.svg\" alt=\"Open In Colab\"/></a>"
      ]
    },
    {
      "cell_type": "markdown",
      "source": [
        "# **Condicional simples**"
      ],
      "metadata": {
        "id": "5ob9Vs9sdg0X"
      }
    },
    {
      "cell_type": "code",
      "source": [
        "#Lê dois valores inteiros e compara ambos\n",
        "x = int(input('Digite um valor inteiro: '))\n",
        "y = int(input('Digite um segundo valor inteiro: '))\n",
        "if (x > y):\n",
        "  print('O Primeiro valor é maior que o segundo!')"
      ],
      "metadata": {
        "id": "TdBhC3TnfQew"
      },
      "execution_count": null,
      "outputs": []
    },
    {
      "cell_type": "code",
      "source": [
        "#Lê dois valores inteiros e compara ambos\n",
        "x = int(input('Digite um valor inteiro: '))\n",
        "y = int(input('Digite um segundo valor inteiro: '))\n",
        "if (x >y):\n",
        "  print('O priemiro valor é maior que o segundo!')\n",
        "if (x < y):\n",
        "  print('O segundo valor é maior que o segundo!')"
      ],
      "metadata": {
        "id": "pOv5afD0g509"
      },
      "execution_count": null,
      "outputs": []
    },
    {
      "cell_type": "markdown",
      "source": [
        "# **Condional composta**"
      ],
      "metadata": {
        "id": "SFB8V3k3h35T"
      }
    },
    {
      "cell_type": "code",
      "source": [
        "#Lê dois valores inteiros e compara ambos\n",
        "x = int(input('Digite um valor inteiro:'))\n",
        "y = int(input('Digite um segundo valor inteiro: '))\n",
        "if(x > y):\n",
        "  print('O primeiro valor pe maio que o segundo!')\n",
        "else:\n",
        "    print('O segundo valor é maior que o segundo!')"
      ],
      "metadata": {
        "id": "-2GvnAWbijv9"
      },
      "execution_count": null,
      "outputs": []
    },
    {
      "cell_type": "code",
      "source": [
        "5\n",
        "# par ou ímpar\n",
        "x = int(input('Digite um valor inteiro: '))\n",
        "if (x % 2 ==0):\n",
        "  print('O número é par!')\n",
        "else:\n",
        "  print('O número é ímpar!')"
      ],
      "metadata": {
        "id": "jqcQlB7XlTYy"
      },
      "execution_count": null,
      "outputs": []
    },
    {
      "cell_type": "markdown",
      "source": [
        "# **Expressões lógicas/booleanas**"
      ],
      "metadata": {
        "id": "VtbG9fyGn0Z2"
      }
    },
    {
      "cell_type": "code",
      "source": [
        "x = 10\n",
        "y = 1\n",
        "res = not x > y\n",
        "print(res)"
      ],
      "metadata": {
        "id": "AQkubh80n6P5",
        "outputId": "19957a4f-709a-4091-f770-e17d93af4a16",
        "colab": {
          "base_uri": "https://localhost:8080/"
        }
      },
      "execution_count": null,
      "outputs": [
        {
          "output_type": "stream",
          "name": "stdout",
          "text": [
            "False\n"
          ]
        }
      ]
    },
    {
      "cell_type": "code",
      "source": [
        "x = 10\n",
        "y = 1\n",
        "z = 5.5\n",
        "res = (x > y) and (z == y) # True and False\n",
        "print(res)"
      ],
      "metadata": {
        "id": "_xp-MgHjohl0",
        "outputId": "7a09d2ea-b542-46d7-9886-b85ae8a8e65d",
        "colab": {
          "base_uri": "https://localhost:8080/"
        }
      },
      "execution_count": null,
      "outputs": [
        {
          "output_type": "stream",
          "name": "stdout",
          "text": [
            "False\n"
          ]
        }
      ]
    },
    {
      "cell_type": "code",
      "source": [
        "x = 10\n",
        "y = 1\n",
        "z= 5.5\n",
        "res= (x > y)  or not (z == y) and (y != y + x / x) #1.55\n",
        "#res = true or not False and True\n",
        "#res = True or True and True\n",
        "print(res)"
      ],
      "metadata": {
        "id": "HWwoD9aXpEv8",
        "outputId": "1fb420d6-4b66-4a61-879b-c41122b8eeb7",
        "colab": {
          "base_uri": "https://localhost:8080/"
        }
      },
      "execution_count": null,
      "outputs": [
        {
          "output_type": "stream",
          "name": "stdout",
          "text": [
            "True\n"
          ]
        }
      ]
    },
    {
      "cell_type": "markdown",
      "source": [
        "# **Exercício**"
      ],
      "metadata": {
        "id": "6gY17ZNTqKxi"
      }
    },
    {
      "cell_type": "code",
      "source": [
        "# Exercício 3.3.1\n",
        "m1 = float(input('Digite a nota da 1° matéria: '))\n",
        "m2 = float(input('Digite a nota da 2° matéria: '))\n",
        "m3 = float(input('Digite a nota da 3° matéria: '))\n",
        "if m1 >= 7 and m2 >=7 and m3 >= 7:\n",
        "  print('O aluno está aprovado de ano!')\n",
        "else:\n",
        "  print('O aluno não passou de ano!')"
      ],
      "metadata": {
        "id": "kEiAw_xhqNqE"
      },
      "execution_count": null,
      "outputs": []
    },
    {
      "cell_type": "markdown",
      "source": [
        "# **Condicionais aninhadas**"
      ],
      "metadata": {
        "id": "NVVx3KlaspIt"
      }
    },
    {
      "cell_type": "code",
      "source": [
        "#Exercício 4.1.1\n",
        "print('Escolha o que deseja comprar:')\n",
        "print('1 - Maça')\n",
        "print('2 - Laranja')\n",
        "print('3 - Banana')\n",
        "produto = int(input('Qual sua escolha?'))\n",
        "QTD = int(input('Quants unidades?'))\n",
        "if(produto == 1):\n",
        "  pagar = QTD * 2.3\n",
        "  print(f'Você comprou {QTD} maças. Total à pagar: {pagar}')\n",
        "else:\n",
        "  if(produto == 2):\n",
        "    pagar = QTD * 3.6\n",
        "    print(f'Você comprou {QTD} laranjas. Total à pagar: {pagar}')\n",
        "  else:\n",
        "    if(produto == 3):\n",
        "      pagar = QTD * 1.85\n",
        "      print(f'Você comprou {QTD} bananas. Total à pagar: {pagar}')\n",
        "    else:\n",
        "      print('Produto inexistente!')\n"
      ],
      "metadata": {
        "id": "5dKpgFedsuwj",
        "outputId": "98985a0d-dd86-481f-afb2-eb908bb90e3a",
        "colab": {
          "base_uri": "https://localhost:8080/"
        }
      },
      "execution_count": null,
      "outputs": [
        {
          "output_type": "stream",
          "name": "stdout",
          "text": [
            "Escolha o que deseja comprar:\n",
            "1 - Maça\n",
            "2 - Laranja\n",
            "3 - Banana\n"
          ]
        }
      ]
    },
    {
      "cell_type": "markdown",
      "source": [
        "# **Condicional de múltipla escolha (elif)**"
      ],
      "metadata": {
        "id": "_EZaVNkySRpV"
      }
    },
    {
      "cell_type": "code",
      "source": [
        "nome = input('Qual seu nome? ')\n",
        "idade = int(input('Qual seua idade? '))\n",
        "\n",
        "if nome =='Anthony':\n",
        "  print('Olá, Anthony')\n",
        "elif idade < 18:\n",
        "  print('Você não é o Anthony! E é menor de idade!')\n",
        "elif idade > 100:\n",
        "  print('Diferente de você, o Anthony não é imortal!')\n",
        "else:\n",
        "  print('Você não é o Anthony')"
      ],
      "metadata": {
        "id": "vF7ESH8KScG6"
      },
      "execution_count": null,
      "outputs": []
    }
  ],
  "metadata": {
    "colab": {
      "toc_visible": true,
      "provenance": [],
      "include_colab_link": true
    },
    "kernelspec": {
      "display_name": "Python 3",
      "name": "python3"
    }
  },
  "nbformat": 4,
  "nbformat_minor": 0
}