{
  "cells": [
    {
      "cell_type": "markdown",
      "metadata": {
        "id": "view-in-github",
        "colab_type": "text"
      },
      "source": [
        "<a href=\"https://colab.research.google.com/github/AnthonyEGV/Exerc-cios-das-aulas-/blob/main/Exerc%C3%ADcios_Aula_04_Algoritmos_iterativos_Estruturas_de_repeti%C3%A7%C3%A3o.ipynb\" target=\"_parent\"><img src=\"https://colab.research.google.com/assets/colab-badge.svg\" alt=\"Open In Colab\"/></a>"
      ]
    },
    {
      "cell_type": "markdown",
      "source": [
        "# **Exercícios**"
      ],
      "metadata": {
        "id": "pFIagQypnIuf"
      }
    },
    {
      "cell_type": "markdown",
      "source": [
        "## 01. Escreva um algoritmo que leia dois valores e imprima na tela o resultado da multiplicação de ambos. Porém, para calcular a multiplicação, utilize somente operações de soma e subtração. Lembrando que uma multiplicação pode ser considerada como um somatório sucessivo. Utilize esta lógica para construir seu algoritmo."
      ],
      "metadata": {
        "id": "dKuwWLi5nQRL"
      }
    },
    {
      "cell_type": "code",
      "source": [
        "x = int(input('Digite um valor: '))\n",
        "y = int(input('Digite outro valor: '))\n",
        "cont = 1\n",
        "multi = 0\n",
        "while (cont <= x):\n",
        "  multi = multi + y\n",
        "  cont = cont + 1\n",
        "print (f'Resultado da multiplicação: {x} X {y} = {multi}')"
      ],
      "metadata": {
        "id": "SSd2ZCtonYfA",
        "colab": {
          "base_uri": "https://localhost:8080/"
        },
        "outputId": "26bb40ff-ca74-4f77-a647-67b69422cbf8"
      },
      "execution_count": 3,
      "outputs": [
        {
          "output_type": "stream",
          "name": "stdout",
          "text": [
            "Digite um valor: 5\n",
            "Digite outro valor: 10\n",
            "Resultado da multiplicação: 5 X 10 = 50\n"
          ]
        }
      ]
    },
    {
      "cell_type": "markdown",
      "source": [
        "## 02. Escreva um algoritmo que obtenha do usuário um valor inicial e um valor final. Para este intervalo especificado pelo usuário, calcule e mostre na tela:\n",
        "## a. A quantidade de números inteiros e positivos;\n",
        "## b. A quantidade de números pares;\n",
        "## c. A quantidade de números impares;\n",
        "## d. A respectiva média de cada um dos itens anteriores;\n",
        "## Será necessário criar uma variável distinta para cada somatório, para cada quantidade e para cada média solicitada.\n"
      ],
      "metadata": {
        "id": "Xxjmq1V7od9C"
      }
    },
    {
      "cell_type": "code",
      "source": [
        "inicial = int(input('Digite um valor inicial: '))\n",
        "final = int(input('Digite um valor final: '))\n",
        "qtd_positivo = 0\n",
        "qtd_par = 0\n",
        "qtd_impar = 0\n",
        "soma_positivo = 0\n",
        "soma_par = 0\n",
        "soma_impar = 0\n",
        "\n",
        "i = inicial\n",
        "if (inicial < final):\n",
        "  while (i <= final):\n",
        "    if (i > 0):\n",
        "      qtd_positivo = qtd_positivo + 1\n",
        "      soma_positivo = soma_positivo + i\n",
        "    if (i % 2 == 0):\n",
        "      qtd_par = qtd_par + 1\n",
        "      soma_par = soma_par + 1\n",
        "    else:\n",
        "      qtd_impar = qtd_impar + 1\n",
        "      soma_impar = soma_impar + i\n",
        "    i = i + 1\n",
        "  media_positivo = soma_positivo / qtd_positivo\n",
        "  media_par = soma_par / qtd_par\n",
        "  media_impar = soma_impar / qtd_impar\n",
        "  print(f'Quantidade de valores positivos: {qtd_positivo}')\n",
        "  print(f'Média de valores positivos: {media_positivo}')\n",
        "  print(f'Quantidade de valores pares: {qtd_par}')\n",
        "  print(f'Média de valores pares: {media_par}')\n",
        "  print(f'Quantidade de valores impares: {qtd_impar}')\n",
        "  print(f'Média de valores impares: {media_impar}')\n",
        "\n",
        "else:\n",
        "  print('Você digitou um valor incial maior ou igual ao final. Encerrando o programa...')"
      ],
      "metadata": {
        "id": "h28AGH7SoyEF"
      },
      "execution_count": null,
      "outputs": []
    },
    {
      "cell_type": "markdown",
      "source": [
        "## 03. Escreva um algoritmo que leia números inteiros via teclado. Somente valores positivos devem ser aceitos pelo programa. Ao final da execução, informe a média dos valores digitados. Realize a implementação com as instruções break e continue, e trabalhe com operações lógicas Truthy e Falsey. Não esqueça de empregar também operadores especiais de atribuição."
      ],
      "metadata": {
        "id": "ZU3PzcZ5YkG5"
      }
    },
    {
      "cell_type": "code",
      "source": [
        "soma = 0\n",
        "qtd_num = 0\n",
        "x = 0\n",
        "while True:\n",
        "  x = int(input('Digite um valor inteiro: '))\n",
        "  if x < 0:\n",
        "    continue\n",
        "  if not x:\n",
        "    break\n",
        "  soma += x\n",
        "  qtd_num += 1\n",
        "media = soma / qtd_num\n",
        "print (f'A média dos valores digitados é: {media}')"
      ],
      "metadata": {
        "colab": {
          "base_uri": "https://localhost:8080/"
        },
        "id": "6R_vHI4fYwLc",
        "outputId": "c3411b68-d216-4920-9ac7-26a9ee8a8c2b"
      },
      "execution_count": null,
      "outputs": [
        {
          "output_type": "stream",
          "name": "stdout",
          "text": [
            "Digite um valor inteiro: 60\n",
            "Digite um valor inteiro: 90\n",
            "Digite um valor inteiro: 40\n",
            "Digite um valor inteiro: 33\n",
            "Digite um valor inteiro: 0\n",
            "A média dos valores digitados é: 55.75\n"
          ]
        }
      ]
    },
    {
      "cell_type": "markdown",
      "source": [
        "## 04. Escreva um algoritmo que calcule a média dos números pares de 1 até 100 (1 e 100 inclusos). Implemente o laço usando for."
      ],
      "metadata": {
        "id": "U9gECobdEx_G"
      }
    },
    {
      "cell_type": "code",
      "source": [
        "soma = 0\n",
        "qtd = 0\n",
        "for i in range(1, 101):\n",
        "  if (i % 2 == 0):\n",
        "    soma += i\n",
        "    qtd += 1\n",
        "media = soma / qtd\n",
        "print(f'A média dos pares de 0 até 100 é: {media}')"
      ],
      "metadata": {
        "colab": {
          "base_uri": "https://localhost:8080/"
        },
        "id": "JfR_ed_NE-lz",
        "outputId": "1c686763-49d2-4549-86a1-e6d5ca5f9b4f"
      },
      "execution_count": 2,
      "outputs": [
        {
          "output_type": "stream",
          "name": "stdout",
          "text": [
            "A média dos pares de 0 até 100 é: 51.0\n"
          ]
        }
      ]
    },
    {
      "cell_type": "markdown",
      "source": [
        "## 05. Escreva um algoritmo que calcule e exiba a tabuada de um número escolhido e digitado pelo usuário. A tabuada deve ser calculada até um determinado número n, também fornecido pelo usuário. Implemente o laço usando for."
      ],
      "metadata": {
        "id": "-w4uXiIGFz0I"
      }
    },
    {
      "cell_type": "code",
      "source": [
        "num = int(input('Digite um número para calcular a tabuada: '))\n",
        "print(f'TABUADA DO {num}: ')\n",
        "for i in range(1, 11, 1):\n",
        "  print(f'{i} X {num} = {i * num}')"
      ],
      "metadata": {
        "colab": {
          "base_uri": "https://localhost:8080/"
        },
        "id": "qmlKaTffGBYD",
        "outputId": "cb06fcb1-226b-4da9-fa39-56f1808d841f"
      },
      "execution_count": 4,
      "outputs": [
        {
          "output_type": "stream",
          "name": "stdout",
          "text": [
            "Digite um número para calcular a tabuada: 5\n",
            "TABUADA DO 5: \n",
            "1 X 5 = 5\n",
            "2 X 5 = 10\n",
            "3 X 5 = 15\n",
            "4 X 5 = 20\n",
            "5 X 5 = 25\n",
            "6 X 5 = 30\n",
            "7 X 5 = 35\n",
            "8 X 5 = 40\n",
            "9 X 5 = 45\n",
            "10 X 5 = 50\n"
          ]
        }
      ]
    },
    {
      "cell_type": "markdown",
      "source": [
        "## 06. Escreva um algoritmo que repetidamente pergunte ao usuário qual sua idade e seu sexo (M ou F). Para cada resposta o programa deve responder imprimir a mensagem:\n",
        "## “Boa noite, Senhor. Sua idade é <IDADE>” caso gênero masculino ou\n",
        "## “Boa noite, Senhora. Sua idade é <IDADE>” caso gênero feminino.\n",
        "## O programa deve encerrar quando o usuário digitar uma idade negativa."
      ],
      "metadata": {
        "id": "q2RLGyj5JiRI"
      }
    },
    {
      "cell_type": "code",
      "source": [
        "idade = int(input('Qual sua idade: '))\n",
        "while (idade > 0):\n",
        "  sexo = input('Qual seu sexo? ( M ou F).')\n",
        "  if ((sexo == 'M') or (sexo == 'm')):\n",
        "    print(f'Boa noite Senhor, sua idade é {idade}.')\n",
        "  else:\n",
        "    if ((sexo == 'F') or (sexo == 'f')):\n",
        "      print(f'Boa noite Senhora, sua idade é {idade}.')\n",
        "    else:\n",
        "      print('Opção de sexo inexistente.')\n",
        "    idade = int(input('Qual sua idade?'))\n",
        "print('Encerrando...')\n",
        "\n"
      ],
      "metadata": {
        "id": "yC-EVDWHJupK"
      },
      "execution_count": null,
      "outputs": []
    },
    {
      "cell_type": "markdown",
      "source": [
        "## 07. Escreva um algoritmo que encontre todos os números primos de 2 até 99. Imprima na tela todos eles."
      ],
      "metadata": {
        "id": "kbH44pa1N2z2"
      }
    },
    {
      "cell_type": "code",
      "source": [
        "print('Primos de 2 até 99: ')\n",
        "for numero in range(2, 100, 1):\n",
        "  flag = 0\n",
        "  for i in range(2, numero, 1):\n",
        "    if (numero % i == 0):\n",
        "      flag = 1\n",
        "      break\n",
        "  if (flag == 0):\n",
        "      print(numero)\n"
      ],
      "metadata": {
        "id": "anYresR2N8WZ"
      },
      "execution_count": null,
      "outputs": []
    },
    {
      "cell_type": "markdown",
      "source": [
        "## 08. Escreva um algoritmo que obtenha do usuário uma frase de tamanho entre 10 e 30 caracteres (faça a validação deste dado). Após a frase ter sido digitada corretamente, faça a impressão dela na tela da maneira exata como foi digitada e, em seguida, remova os espaços da frase e imprima novamente, sem espaços."
      ],
      "metadata": {
        "id": "ZAsZzJH6ZonO"
      }
    },
    {
      "cell_type": "code",
      "source": [
        "frase = input('Digite um frase:')\n",
        "tamanho = len(frase)\n",
        "while((tamanho < 10) or (tamanho > 30)):\n",
        "  frase = input('Digite uma frase: ')\n",
        "  tamanho = len(frase)\n",
        "print(f'Com espaços: {frase}')\n",
        "print(f'Sem espaços: ', end=\"\")\n",
        "for i in range(0, tamanho, 1):\n",
        "  if (frase[i] != ' '):\n",
        "    print(frase[i], end=' ')"
      ],
      "metadata": {
        "colab": {
          "base_uri": "https://localhost:8080/"
        },
        "id": "nVFXOCLAaGHv",
        "outputId": "4f222cdf-a413-421f-84af-68a825d1b11b"
      },
      "execution_count": 34,
      "outputs": [
        {
          "output_type": "stream",
          "name": "stdout",
          "text": [
            "Digite um frase:Bom dia como está?\n",
            "Com espaços: Bom dia como está?\n",
            "Sem espaços: B o m d i a c o m o e s t á ? "
          ]
        }
      ]
    }
  ],
  "metadata": {
    "colab": {
      "toc_visible": true,
      "provenance": [],
      "include_colab_link": true
    },
    "kernelspec": {
      "display_name": "Python 3",
      "name": "python3"
    }
  },
  "nbformat": 4,
  "nbformat_minor": 0
}