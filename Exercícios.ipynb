{
  "nbformat": 4,
  "nbformat_minor": 0,
  "metadata": {
    "colab": {
      "provenance": [],
      "authorship_tag": "ABX9TyPZza78xgrae30mViRv2kF2",
      "include_colab_link": true
    },
    "kernelspec": {
      "name": "python3",
      "display_name": "Python 3"
    },
    "language_info": {
      "name": "python"
    }
  },
  "cells": [
    {
      "cell_type": "markdown",
      "metadata": {
        "id": "view-in-github",
        "colab_type": "text"
      },
      "source": [
        "<a href=\"https://colab.research.google.com/github/AnthonyEGV/Exerc-cios-das-aulas-/blob/main/Exerc%C3%ADcios.ipynb\" target=\"_parent\"><img src=\"https://colab.research.google.com/assets/colab-badge.svg\" alt=\"Open In Colab\"/></a>"
      ]
    },
    {
      "cell_type": "markdown",
      "source": [
        "\n",
        "\n",
        "# Exercícios tema 1 - CONDICIONAL SIMPLES E COMPOSTA"
      ],
      "metadata": {
        "id": "Mzls0SbPgBf_"
      }
    },
    {
      "cell_type": "markdown",
      "source": [
        "### 1. que acontece caso ambos os valores (x e y) sejam iguais no exercício abaixo? O que irá aparecer na tela para o usuário? Explique."
      ],
      "metadata": {
        "id": "zTkYjAJ1gIUm"
      }
    },
    {
      "cell_type": "code",
      "execution_count": null,
      "metadata": {
        "colab": {
          "base_uri": "https://localhost:8080/"
        },
        "id": "ya1vgUwbV7Om",
        "outputId": "b862546d-1054-4bc1-c9b3-db0b02faa6cf"
      },
      "outputs": [
        {
          "name": "stdout",
          "output_type": "stream",
          "text": [
            "Digite um valor inteiro: 50\n",
            "Digite outro valor inteiro: 50\n"
          ]
        }
      ],
      "source": [
        "x = int(input('Digite um valor inteiro: '))\n",
        "y = int(input('Digite outro valor inteiro: '))\n",
        "if(x > y):\n",
        "    print('O priemiro valor é maior que o segundo! ')\n",
        "if(x < y):\n",
        "    print('O segundo valor é maior que o primeiro! ')\n"
      ]
    },
    {
      "cell_type": "markdown",
      "source": [
        "**Resposta: Caso os dois valores forem iguais, não vai informar nenhuma mensagem, pois não há uma sintaxe de (x==Y).**"
      ],
      "metadata": {
        "id": "SS0rSSBbghZl"
      }
    },
    {
      "cell_type": "markdown",
      "source": [
        "## 2. Desenvolva um algoritmo que solicite o seu ano de nascimento e o ano atual. Calcule a sua idade e apresente na tela.\n"
      ],
      "metadata": {
        "id": "YHBTrrxcFm9v"
      }
    },
    {
      "cell_type": "code",
      "source": [
        "ano_nasc = int(input( 'Qual o seu ano de nascimento? ' ))\n",
        "ano_atual = int(input('Em que ano estamos? '))\n",
        "idade = ano_atual - ano_nasc\n",
        "print(f'Você tem {idade} anos de idade.')\n",
        "if (idade >= 18):\n",
        "  print('Você é maior de idade. Já pode tirar sua carteira de motorista!')"
      ],
      "metadata": {
        "colab": {
          "base_uri": "https://localhost:8080/"
        },
        "id": "SfJbrST6HXWr",
        "outputId": "5c36cfc8-4f1e-4b2f-911a-b9d5cf12a632"
      },
      "execution_count": null,
      "outputs": [
        {
          "output_type": "stream",
          "name": "stdout",
          "text": [
            "Qual o seu ano de nascimento? 1998\n",
            "Em que ano estamos? 2024\n",
            "Você tem 26 anos de idade.\n",
            "Você é maior de idade. Já pode tirar sua carteira de motorista!\n"
          ]
        }
      ]
    },
    {
      "cell_type": "markdown",
      "source": [
        "## 2. Uma empresa concedeu um bônus de 20% para todos seus funcionários com mais de cinco anos de empresa. Todos os outros que não se enquadram nesta categoria receberam uma bonificação de 10%, somente. Escreva um algoritmo que leia o salário do funcionário e seu tempo de empresa, e apresente a bonificação de cada funcionário na tela."
      ],
      "metadata": {
        "id": "J_LHkxnAIbZG"
      }
    },
    {
      "cell_type": "code",
      "source": [
        "salario = float(input('Qual seu salário? '))\n",
        "ano_admissao = int(input('Qual seu ano de admissão na empresa? '))\n",
        "ano_atual = int(input('Qm  que ano estamos? '))\n",
        "tempo = ano_atual - ano_admissao\n",
        "if (tempo > 5):\n",
        "  bonus = salario * 0.2\n",
        "else:\n",
        "    bonus = salario * 0.1\n",
        "print(f'Você tem {tempo} anos dentro desta empresa.')\n",
        "print(f'Seu salário é de {bonus}.')\n",
        "print(f'Salário final {bonus + salario}.')"
      ],
      "metadata": {
        "colab": {
          "base_uri": "https://localhost:8080/"
        },
        "id": "pccmoIx9IqmW",
        "outputId": "11e0ec1c-1aa2-4331-c0fd-fb55b90e0102"
      },
      "execution_count": null,
      "outputs": [
        {
          "output_type": "stream",
          "name": "stdout",
          "text": [
            "Qual seu salário? 2022\n",
            "Qual seu ano de admissão na empresa? 2017\n",
            "Qm  que ano estamos? 2024\n",
            "Você tem 7 anos dentro desta empresa.\n",
            "Seu salário é de 404.40000000000003.\n",
            "Salário final 2426.4.\n"
          ]
        }
      ]
    },
    {
      "cell_type": "markdown",
      "source": [
        "# Exercícios tema 2 - EXPRESSÕES LÓGICAS E ÁLGEBRA BOOLEANA"
      ],
      "metadata": {
        "id": "fLeoETRfI976"
      }
    },
    {
      "cell_type": "markdown",
      "source": [
        "## *1. Um aluno, para passar de ano, precisa estar aprovado em todas as matérias que ele está cursando. Assuma que a média para aprovação é a partir de 7, e que o aluno cursa 3 matérias, somente. Escreva um algoritmo que leia a nota final do aluno em cada matérias, e informe na tela se ele passou de ano, ou não. **"
      ],
      "metadata": {
        "id": "YCiylm6cIuwO"
      }
    },
    {
      "cell_type": "code",
      "source": [
        "m1 = float(input('Digite a nota da 1° matéria: '))\n",
        "m2 = float(input('Digite a nota da 2° matéria: '))\n",
        "m3 = float(input('Digite a nota da 3 matéria: '))\n",
        "if  m1 >= 7 and m2 >= 7 and m3 >= 7:\n",
        "  print('Parabéns você passou de ano!')\n",
        "else:\n",
        "  print('Infelizmente você reprovou!')"
      ],
      "metadata": {
        "colab": {
          "base_uri": "https://localhost:8080/"
        },
        "id": "1Nw9EWo8J7dL",
        "outputId": "1f458998-7395-443b-da7b-ad83aafdeaed"
      },
      "execution_count": null,
      "outputs": [
        {
          "output_type": "stream",
          "name": "stdout",
          "text": [
            "Digite a nota da 1° matéria: 7\n",
            "Digite a nota da 2° matéria: 7\n",
            "Digite a nota da 3 matéria: 7\n",
            "Parabéns você passou de ano!\n"
          ]
        }
      ]
    },
    {
      "cell_type": "markdown",
      "source": [
        "## 2. Escreva um algoritmo que lê um valor inteiro qualquer. Após, verifique se este valor está contido dentro dos seguintes intervalos: -100 x < -1 e 1 < x < 100. Imprima na tela uma mensagem caso ele esteja em um dos intervalos."
      ],
      "metadata": {
        "id": "LmZZ5S6lL1Ae"
      }
    },
    {
      "cell_type": "code",
      "source": [
        "x = int(input('Digite qualquer número inteiro: '))\n",
        "if x >= 1 and x <= 100 or x >= -100 and x <= -1 :\n",
        "  print('Um dos critérios foi atingido.')"
      ],
      "metadata": {
        "colab": {
          "base_uri": "https://localhost:8080/"
        },
        "id": "qit_5JRzMCZA",
        "outputId": "cdc2f843-7952-46c6-c4d9-de6b7666f884"
      },
      "execution_count": null,
      "outputs": [
        {
          "output_type": "stream",
          "name": "stdout",
          "text": [
            "Digite qualquer número inteiro: 100\n",
            "Um dos critérios foi atingido.\n"
          ]
        }
      ]
    },
    {
      "cell_type": "markdown",
      "source": [
        "# Exercícios tema 3 - CONDICIONAIS ANINHADAS"
      ],
      "metadata": {
        "id": "nwEut60NM7fc"
      }
    },
    {
      "cell_type": "markdown",
      "source": [
        "## 1. Escreva um algoritmo em Python em que o usuário escolhe se ele quer comprar maçãs, laranjas ou bananas. Deverá ser apresentado na tela um menu com a opção 1 para maçã, 2 para laranja e 3 para banana. Após escolhida a fruta, deve-se digitar quantas unidades se quer comprar. O algoritmo deve calcular o preço total a pagar do produto escolhido e mostrá-lo na tela. Considere que uma maçã custa 2,30, uma laranja 3,60 e uma banana 1,85."
      ],
      "metadata": {
        "id": "BGCvIw9sPy8n"
      }
    },
    {
      "cell_type": "code",
      "source": [
        "print('Escolha o que deseja comprar:')\n",
        "print('1 - Maça')\n",
        "print('2 - Laranja')\n",
        "print('3 - Banana')\n",
        "produto = int(input('Qual sua escolha?'))\n",
        "qtd = int(input('Quantas unidades?'))\n",
        "if  (produto == 1):\n",
        "  pagar = qtd * 2.3\n",
        "  print(f'Você comprou {qtd} maças. Total á oagar: {pagar}')\n",
        "else:\n",
        "  if (produto == 2):\n",
        "    pagar = qtd * 3.6\n",
        "    print(f'Você comprou {qtd} laranjas. Total a pagar: {pagar}')\n",
        "  else:\n",
        "      if(produto == 3):\n",
        "        pagar = qtd * 1.85\n",
        "        print(f'Você comprou {qtd} bananas. total a pagar: {pagar}')\n",
        "      else:\n",
        "        print('Produto inexistente!')"
      ],
      "metadata": {
        "colab": {
          "base_uri": "https://localhost:8080/"
        },
        "id": "N7-0vxRzQK31",
        "outputId": "ea6b2e2a-fbb6-4447-b5b3-bc933e0bb0e9"
      },
      "execution_count": null,
      "outputs": [
        {
          "output_type": "stream",
          "name": "stdout",
          "text": [
            "Escolha o que deseja comprar:\n",
            "1 - Maça\n",
            "2 - Laranja\n",
            "3 - Banana\n",
            "Qual sua escolha?2\n",
            "Quantas unidades?15\n",
            "Você comprou 15 laranjas. Total a pagar: 54.0\n"
          ]
        }
      ]
    },
    {
      "cell_type": "markdown",
      "source": [
        "## 2. Faça um algoritmo que receba três valores, representando os lados de um triângulo fornecidos pelo usuário. Verifique se os valores formam um triângulo e classifique como:"
      ],
      "metadata": {
        "id": "ZJKyi_XS0617"
      }
    },
    {
      "cell_type": "code",
      "source": [
        "A = int(input('Digite o 1° lado do triângulo: '))\n",
        "B = int(input('Digite o 2° lado do triângulo: '))\n",
        "C = int(input('Digite o 3° lado do triângulo: '))\n",
        "\n",
        "if A > 0 and B > 0 and C > 0:\n",
        "  if A + B > C and A + C > B and B + C > A:\n",
        "    if A != B and A != C and B != C:\n",
        "      print('Triângulo escaleno.')\n",
        "    else:\n",
        "      if A == B and A == C and B == C:\n",
        "        print('Triângulo equilátero.')\n",
        "      else:\n",
        "        print('Triângulo isósceles.')\n",
        "  else:\n",
        "      print('Ao menos um dos valores indicados não servem para formar um triângulo.')\n",
        "else:\n",
        "  print('Ao menos um dos valores indicados não servem para formar um triângulo.')"
      ],
      "metadata": {
        "colab": {
          "base_uri": "https://localhost:8080/"
        },
        "id": "1XAwxLZ-1C0f",
        "outputId": "cec050f9-7943-4b5a-d4f9-da9f54d447a5"
      },
      "execution_count": null,
      "outputs": [
        {
          "output_type": "stream",
          "name": "stdout",
          "text": [
            "Digite o 1° lado do triângulo: 60\n",
            "Digite o 2° lado do triângulo: 60\n",
            "Digite o 3° lado do triângulo: 120\n",
            "Ao menos um dos valores indicados não servem para formar um triângulo.\n"
          ]
        }
      ]
    },
    {
      "cell_type": "markdown",
      "source": [
        "# Exercícios Tema 04 - CONDICIONAIS DE MÚLTIPLA ESCOLHA (elif)"
      ],
      "metadata": {
        "id": "F5CRCncz7xip"
      }
    },
    {
      "cell_type": "markdown",
      "source": [
        "## 1. Escreva um algoritmo que leia dois valores numéricos e que pergunte ao usuário qual operação ele deseja realizar: adição (+), subtração (-) multiplicação (*) ou divisão (/). Exiba na tela o resultado da operação desejada."
      ],
      "metadata": {
        "id": "iVHNWxcT8-Ka"
      }
    },
    {
      "cell_type": "code",
      "source": [
        "print('CALCULADORA')\n",
        "print('+ Adição')\n",
        "print('- Subtração')\n",
        "print('* Multiplicação')\n",
        "print('/ Divisão')\n",
        "print('Digite outra tecla para sair.')\n",
        "\n",
        "op = input('Qual operação deseja realizar? ')\n",
        "x = int(input('Digite o primeiro valor: '))\n",
        "y = int(input('Digite o segundo valor: '))\n",
        "\n",
        "if (op == '+'):\n",
        "  res = x + y\n",
        "  print(f'Resultado: {x} + {y} = {res}')\n",
        "elif (op == '-'):\n",
        "  res= x - y\n",
        "  print(f'Resultado: {x} - {y} = {res}')\n",
        "elif (op == '*'):\n",
        "  res = x * y\n",
        "  print(f'Resultado: {x} * {y} = {res}')\n",
        "elif (op == '/'):\n",
        "  res = x / y\n",
        "  print(f'Resltado: {x} / {y} = {res}')\n",
        "else:\n",
        "  print('Operação Inválida')"
      ],
      "metadata": {
        "id": "AAIlDove9LXE",
        "colab": {
          "base_uri": "https://localhost:8080/"
        },
        "outputId": "ba66f688-6c10-41b0-eff1-6b633a8123e8"
      },
      "execution_count": 25,
      "outputs": [
        {
          "output_type": "stream",
          "name": "stdout",
          "text": [
            "CALCULADORA\n",
            "+ Adição\n",
            "- Subtração\n",
            "* Multiplicação\n",
            "/ Divisão\n",
            "Digite outra tecla para sair.\n",
            "Qual operação deseja realizar? +\n",
            "Digite o primeiro valor: 2\n",
            "Digite o segundo valor: 1\n",
            "Resultado: 2 + 1 = 3\n"
          ]
        }
      ]
    },
    {
      "cell_type": "markdown",
      "source": [
        "## 2. Uma loja de departamentos está oferecendo diferentes formas de pagamento, conforme opções listadas a seguir. Faça um algoritmo que leia o valor total de uma compra e calcule o valor do pagamento final de acordo com a opção escolhida. Se a escolha for por pagamento parcelado, calcule também o valor de cada parcela. Ao final, apresente o valor total da compra e o valor das parcelas:\n",
        "## • Pagamento à vista – conceder desconto de 5%;  \n",
        "## • Pagamento em 3x – o valor não sofre alterações;  \n",
        "## • Pagamento em 5x – acréscimo de 2%;  \n",
        "## • Pagamento em 10x – acréscimo 8%."
      ],
      "metadata": {
        "id": "cwSo3CKDB62z"
      }
    },
    {
      "cell_type": "code",
      "source": [
        "print('Pagamento')\n",
        "print('1 - à vista')\n",
        "print('2 - parcelamento em 3X')\n",
        "print('3 - parcelamento em 5X')\n",
        "print('4 - parcelamento em 10X')\n",
        "print('pressione outra tecla para sair...')\n",
        "\n",
        "op = int(input('Qual fomnra de pagamento deseja fazer? '))\n",
        "valor = float(input('Qual o preço do produto? '))\n",
        "\n",
        "if (op == 1):\n",
        "  valor_final = valor * 0.95\n",
        "  print(f'Produto comprado à vista. Total a paga: {valor_final}')\n",
        "elif (op == 2):\n",
        "  valor_final = valor\n",
        "  parcela = valor_final / 3\n",
        "  print(f'Produto parcelado de 3X. Total a pagar: {valor_final}. Valor de parcela: {parcela:.2f}.')\n",
        "elif (op == 3):\n",
        "  valor_final = valor * 1.02\n",
        "  parcela = valor_final / 5\n",
        "  print(f'Produto parcelado em 5x. Total a pagar: {valor_final}. Vlor da parcela: {parcela:.2f}')\n",
        "elif (op == 4):\n",
        "  valor_final = valor * 1.08\n",
        "  parcela = valor_final / 10\n",
        "  print(f'Profuto parcelado de 10x. Total a pagar: {valor_final}. Valor da parcela: {parcela:.2f}')\n",
        "else:\n",
        "  print('Opção inváloda')\n"
      ],
      "metadata": {
        "colab": {
          "base_uri": "https://localhost:8080/"
        },
        "id": "AQKu348bCVpQ",
        "outputId": "25e0a38e-cf3e-401a-d4ed-0559440a9b1a"
      },
      "execution_count": 34,
      "outputs": [
        {
          "output_type": "stream",
          "name": "stdout",
          "text": [
            "Pagamento\n",
            "1 - à vista\n",
            "2 - parcelamento em 3X\n",
            "3 - parcelamento em 5X\n",
            "4 - parcelamento em 10X\n",
            "pressione outra tecla para sair...\n",
            "Qual fomnra de pagamento deseja fazer? 2\n",
            "Qual o preço do produto? 600\n",
            "Produto parcelado de 3X. Total a pagar: 600.0. Valor de parcela: 200.00.\n"
          ]
        }
      ]
    }
  ]
}