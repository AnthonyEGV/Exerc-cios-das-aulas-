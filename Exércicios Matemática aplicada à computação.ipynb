{
  "nbformat": 4,
  "nbformat_minor": 0,
  "metadata": {
    "colab": {
      "provenance": [],
      "authorship_tag": "ABX9TyNhv4JSYhYifH7Y3mGC4KS4",
      "include_colab_link": true
    },
    "kernelspec": {
      "name": "python3",
      "display_name": "Python 3"
    },
    "language_info": {
      "name": "python"
    }
  },
  "cells": [
    {
      "cell_type": "markdown",
      "metadata": {
        "id": "view-in-github",
        "colab_type": "text"
      },
      "source": [
        "<a href=\"https://colab.research.google.com/github/AnthonyEGV/Exerc-cios-das-aulas-/blob/main/Ex%C3%A9rcicios%20Matem%C3%A1tica%20aplicada%20%C3%A0%20computa%C3%A7%C3%A3o.ipynb\" target=\"_parent\"><img src=\"https://colab.research.google.com/assets/colab-badge.svg\" alt=\"Open In Colab\"/></a>"
      ]
    },
    {
      "cell_type": "markdown",
      "source": [
        "# Exércicios Matemática aplicada à **computação**"
      ],
      "metadata": {
        "id": "FLER37Wb2okA"
      }
    },
    {
      "cell_type": "markdown",
      "source": [
        "## 1. É possível resolver problemas relacionados a expressões lógicas por meio do Python, Considerando as proposições p, q e r onde V(p) = V, V(q) = V e V(r) = F, ultileze o Python para obtesr o valor lógico das seguintes proposições."
      ],
      "metadata": {
        "id": "-hv_av0A3KhV"
      }
    },
    {
      "cell_type": "markdown",
      "source": [
        "\n",
        "A) p+q\n",
        "\n",
        "B) p+r\n",
        "\n",
        "C) q.r\n",
        "\n",
        "D) (q.r)'\n",
        "\n",
        "E) q+r\n",
        "\n",
        "F) p'\n",
        "\n",
        "G) (p.r)'"
      ],
      "metadata": {
        "id": "5Et5C3XM60Oa"
      }
    },
    {
      "cell_type": "code",
      "source": [
        "#A)\n",
        "p = True\n",
        "q = True\n",
        "r = False\n",
        "p or r"
      ],
      "metadata": {
        "colab": {
          "base_uri": "https://localhost:8080/"
        },
        "id": "ly6CEcUa7PT4",
        "outputId": "525ba55b-c857-46af-9414-a67cba7688a4"
      },
      "execution_count": 10,
      "outputs": [
        {
          "output_type": "execute_result",
          "data": {
            "text/plain": [
              "True"
            ]
          },
          "metadata": {},
          "execution_count": 10
        }
      ]
    },
    {
      "cell_type": "code",
      "source": [
        "#B) p+r\n",
        "p = True\n",
        "q = True\n",
        "r = False\n",
        "p or q"
      ],
      "metadata": {
        "colab": {
          "base_uri": "https://localhost:8080/"
        },
        "id": "iaHW5f_H7aaw",
        "outputId": "69f5d2cd-2f66-4f99-9ccf-6beb3ee2da10"
      },
      "execution_count": 11,
      "outputs": [
        {
          "output_type": "execute_result",
          "data": {
            "text/plain": [
              "True"
            ]
          },
          "metadata": {},
          "execution_count": 11
        }
      ]
    },
    {
      "cell_type": "code",
      "source": [
        "#C)\n",
        "p = True\n",
        "q = True\n",
        "r = False\n",
        "q and r"
      ],
      "metadata": {
        "colab": {
          "base_uri": "https://localhost:8080/"
        },
        "id": "-DI19DJx7lOx",
        "outputId": "ed0e8431-466b-4409-d34b-a306fbf42f38"
      },
      "execution_count": 13,
      "outputs": [
        {
          "output_type": "execute_result",
          "data": {
            "text/plain": [
              "False"
            ]
          },
          "metadata": {},
          "execution_count": 13
        }
      ]
    },
    {
      "cell_type": "code",
      "source": [
        "#D)\n",
        "p = True\n",
        "q = True\n",
        "r = False\n",
        "not(q and r)"
      ],
      "metadata": {
        "colab": {
          "base_uri": "https://localhost:8080/"
        },
        "id": "bsCIybVO8Jo4",
        "outputId": "098bd75d-e82e-4027-be40-09930079c745"
      },
      "execution_count": 14,
      "outputs": [
        {
          "output_type": "execute_result",
          "data": {
            "text/plain": [
              "True"
            ]
          },
          "metadata": {},
          "execution_count": 14
        }
      ]
    },
    {
      "cell_type": "code",
      "source": [
        "#E)\n",
        "p = True\n",
        "q = True\n",
        "r = False\n",
        "q or r"
      ],
      "metadata": {
        "colab": {
          "base_uri": "https://localhost:8080/"
        },
        "id": "6FLgEaXZ8WHP",
        "outputId": "f9fc77c7-0415-4dc7-88f0-991b6f0833a1"
      },
      "execution_count": 15,
      "outputs": [
        {
          "output_type": "execute_result",
          "data": {
            "text/plain": [
              "True"
            ]
          },
          "metadata": {},
          "execution_count": 15
        }
      ]
    },
    {
      "cell_type": "code",
      "source": [
        "#F\n",
        "p = True\n",
        "q = True\n",
        "r = False\n",
        "not(p)"
      ],
      "metadata": {
        "colab": {
          "base_uri": "https://localhost:8080/"
        },
        "id": "nb8YL50r8lk2",
        "outputId": "721a3793-8428-4a8c-99cb-726c934cc498"
      },
      "execution_count": 17,
      "outputs": [
        {
          "output_type": "execute_result",
          "data": {
            "text/plain": [
              "False"
            ]
          },
          "metadata": {},
          "execution_count": 17
        }
      ]
    },
    {
      "cell_type": "code",
      "source": [
        "#G\n",
        "p = True\n",
        "q = True\n",
        "r = False\n",
        "not(p and r)"
      ],
      "metadata": {
        "colab": {
          "base_uri": "https://localhost:8080/"
        },
        "id": "twdBtnck8vM8",
        "outputId": "2b3fd210-7ad6-403b-9d63-0e7ecce7b4a1"
      },
      "execution_count": 16,
      "outputs": [
        {
          "output_type": "execute_result",
          "data": {
            "text/plain": [
              "True"
            ]
          },
          "metadata": {},
          "execution_count": 16
        }
      ]
    },
    {
      "cell_type": "markdown",
      "source": [
        "## 2. Em uma empresa, a entrada em determinado setor é liberada após o funcionário digitar determinada senha. Sabendo que a senha é 705080, faça um programa em Pythonh onde o usuário digita uma senha. Se a senha estiver correta, apareece a mensagem que a entrada está liberada. Caso contrário, a mensagem é de que a entrada não está autorizada:"
      ],
      "metadata": {
        "id": "Dxtkm5qt87Rt"
      }
    },
    {
      "cell_type": "code",
      "source": [
        "senha=input('Digite a senha: ')\n",
        "if senha == \"705080\":\n",
        "  print('Senha correta')\n",
        "else:\n",
        "  print('Senha incorrta')\n"
      ],
      "metadata": {
        "colab": {
          "base_uri": "https://localhost:8080/"
        },
        "id": "e2mzn8Wq9j3C",
        "outputId": "3c76a882-6524-4022-d950-856e1b3525a6"
      },
      "execution_count": 25,
      "outputs": [
        {
          "output_type": "stream",
          "name": "stdout",
          "text": [
            "Digite a senha: 12350\n",
            "Senha incorrta\n"
          ]
        }
      ]
    },
    {
      "cell_type": "markdown",
      "source": [
        "## 3. Para a liberação de um financiamento imobiliário, uma construtora exige que a renda mensal líquida mínima seja maior ou igual a R$8.500, e que o total de comprometimento com outors finaciamentos ou empréstimos não utrapasse 20% da renda mensal líquida:"
      ],
      "metadata": {
        "id": "jMFkaENX-_dz"
      }
    },
    {
      "cell_type": "code",
      "source": [
        "R=float(input('Renda mensal líquida: '))\n",
        "F=float(input('Financiamento ou empréstimo: '))\n",
        "if R>=8500 and F<=0.2*R:\n",
        "  print(\"Financiamento aprovado\")\n",
        "else:\n",
        "  print('Financiamento não aprovado')"
      ],
      "metadata": {
        "colab": {
          "base_uri": "https://localhost:8080/"
        },
        "id": "8uqOvXDf_ljw",
        "outputId": "26ca8f98-579f-4831-833e-ed57cdda19f4"
      },
      "execution_count": 28,
      "outputs": [
        {
          "output_type": "stream",
          "name": "stdout",
          "text": [
            "Renda mensal líquida: 2000\n",
            "Financiamento ou empréstimo: 300\n",
            "Financiamento não aprovado\n"
          ]
        }
      ]
    },
    {
      "cell_type": "markdown",
      "source": [
        "## 4. Em determinada disciplina, para compor a nota, foram realizada duas atividades práticas e uma prova objetiva. A primeira atividade prática corresponde a 20% da nota, a segunda atividade prática corresponde a 30% da nota e a prova objetiva corresponde a 50% da nota da dsiciplina. Sabendo que o estudadente obtiver nota inferior a 30 está reprovado, nota maior ou igual a 30 e menor do que 70 está em exame final e nota maior ou igual a 30 está aprovado, faça um program em Python onde são informadas as notas obtidas nas duas atividades práticas e na prova objetiva e é informada a nota obtida na disciplina e o resultado:"
      ],
      "metadata": {
        "id": "DkAn8eWiCQZX"
      }
    },
    {
      "cell_type": "code",
      "source": [
        "A1=float(input('Notaa da primeira atividade prática: '))\n",
        "A2=float(input('Nota da segunda atividade prática: '))\n",
        "P=float(input('Nota da prova objetiva: '))\n",
        "N=0.2*A1+0.3*A2+0.5*P\n",
        "print(f'Nota da disciplina: {N:.1f}')\n",
        "if N<30:\n",
        "  print('Reprovado')\n",
        "elif N>=30 and N<70:\n",
        "  print(\"Em exame\")\n",
        "else:\n",
        "  print('Aprovado')"
      ],
      "metadata": {
        "colab": {
          "base_uri": "https://localhost:8080/"
        },
        "id": "Xv2s0sSiDjCx",
        "outputId": "6119407d-c3ee-4f76-d6e9-d44e40f4b000"
      },
      "execution_count": 33,
      "outputs": [
        {
          "output_type": "stream",
          "name": "stdout",
          "text": [
            "Notaa da primeira atividade prática: 40\n",
            "Nota da segunda atividade prática: 80\n",
            "Nota da prova objetiva: 90\n",
            "Nota da disciplina: 77.0\n",
            "Aprovado\n"
          ]
        }
      ]
    },
    {
      "cell_type": "markdown",
      "source": [
        "## 5. Em uma empresa, a entrada em determinado setor é liberado após o funcionário digitar determinhada senha. Sabendo que uma das senhas é 705080 e que a outra senha é 999999, faça um programa em Python onde o usuário digita uma senha. Se asenha estiver correta, aparece a mensagem que a entrada está liberada, caso contrário, a mensagem é de que a entrada não está autorizada."
      ],
      "metadata": {
        "id": "uxvja-RqFEJi"
      }
    },
    {
      "cell_type": "code",
      "source": [
        "senha=input('Digite a senha: ')\n",
        "if senha == \"705080\" or senha == '999999':\n",
        "  print('Senha correta')\n",
        "else:\n",
        "  print('Senha incorrta')"
      ],
      "metadata": {
        "colab": {
          "base_uri": "https://localhost:8080/"
        },
        "id": "lrt3T97zF2hP",
        "outputId": "06f1e89a-8250-4b83-c874-d7f79216442c"
      },
      "execution_count": 34,
      "outputs": [
        {
          "output_type": "stream",
          "name": "stdout",
          "text": [
            "Digite a senha: 999999\n",
            "Senha correta\n"
          ]
        }
      ]
    }
  ]
}